{
  "nbformat": 4,
  "nbformat_minor": 0,
  "metadata": {
    "colab": {
      "provenance": [],
      "authorship_tag": "ABX9TyN4GEYhfW1WqJGQhZqiOC4R",
      "include_colab_link": true
    },
    "kernelspec": {
      "name": "python3",
      "display_name": "Python 3"
    },
    "language_info": {
      "name": "python"
    }
  },
  "cells": [
    {
      "cell_type": "markdown",
      "metadata": {
        "id": "view-in-github",
        "colab_type": "text"
      },
      "source": [
        "<a href=\"https://colab.research.google.com/github/hibameo/python_SIMPLE_Function/blob/main/SIMPLE_Function.ipynb\" target=\"_parent\"><img src=\"https://colab.research.google.com/assets/colab-badge.svg\" alt=\"Open In Colab\"/></a>"
      ]
    },
    {
      "cell_type": "code",
      "execution_count": 2,
      "metadata": {
        "colab": {
          "base_uri": "https://localhost:8080/"
        },
        "id": "-AKZExj8bgWi",
        "outputId": "293239fa-0062-4c93-c644-1057d6ef60e6"
      },
      "outputs": [
        {
          "output_type": "stream",
          "name": "stdout",
          "text": [
            "mobile charge\n"
          ]
        }
      ],
      "source": [
        "\n",
        "def charge():\n",
        "      print(\"mobile charge\")\n",
        "\n",
        "\n",
        "charge()"
      ]
    },
    {
      "cell_type": "code",
      "source": [
        "def driver():\n",
        "     print(\"car chalao\")\n",
        "\n",
        "\n",
        "driver()\n"
      ],
      "metadata": {
        "colab": {
          "base_uri": "https://localhost:8080/"
        },
        "id": "7XQsvtEWbtZc",
        "outputId": "01c34abc-43c2-4f9d-daf2-5dd79345ad17"
      },
      "execution_count": 3,
      "outputs": [
        {
          "output_type": "stream",
          "name": "stdout",
          "text": [
            "car chalao\n"
          ]
        }
      ]
    },
    {
      "cell_type": "code",
      "source": [
        "def nawal():\n",
        "     print(\"khana lao\")\n",
        "\n",
        "nawal()\n",
        ""
      ],
      "metadata": {
        "colab": {
          "base_uri": "https://localhost:8080/"
        },
        "id": "p3YSJ0wibxmG",
        "outputId": "adb82ebc-6e26-4f59-93b4-f91a7363d7e7"
      },
      "execution_count": 4,
      "outputs": [
        {
          "output_type": "stream",
          "name": "stdout",
          "text": [
            "khana lao\n"
          ]
        }
      ]
    },
    {
      "cell_type": "code",
      "source": [
        "def hiba():\n",
        "     print(\"books lao\")\n",
        "\n",
        "\n",
        "hiba()"
      ],
      "metadata": {
        "colab": {
          "base_uri": "https://localhost:8080/"
        },
        "id": "jURiIWHCbzkE",
        "outputId": "8c4877ff-ae10-4182-91b9-6b8d756a6bdb"
      },
      "execution_count": 5,
      "outputs": [
        {
          "output_type": "stream",
          "name": "stdout",
          "text": [
            "books lao\n"
          ]
        }
      ]
    },
    {
      "cell_type": "code",
      "source": [
        "def cook():\n",
        "     print(\"biryani banao\")\n",
        "\n",
        "\n",
        "cook()\n"
      ],
      "metadata": {
        "colab": {
          "base_uri": "https://localhost:8080/"
        },
        "id": "zqotZJXpbpr9",
        "outputId": "219d21db-7412-4780-877f-361233bf05e9"
      },
      "execution_count": 1,
      "outputs": [
        {
          "output_type": "stream",
          "name": "stdout",
          "text": [
            "biryani banao\n"
          ]
        }
      ]
    }
  ]
}